{
 "cells": [
  {
   "cell_type": "markdown",
   "metadata": {
    "collapsed": false
   },
   "source": [
    "# Graphs with Python\n",
    "\n",
    "The Python package NetworkX has many functions for manipulating and investigating graphs. For example, the following code demonstrates two\n",
    "ways to create a graph representing a directed 3-cycle."
   ]
  },
  {
   "cell_type": "code",
   "execution_count": 1,
   "metadata": {
    "collapsed": false
   },
   "outputs": [
    {
     "data": {
      "image/png": "[encoded data removed]",
      "text/plain": [
       "<Figure size 75x75 with 1 Axes>"
      ]
     },
     "metadata": {
      "filenames": {
       "image/png": "/home/user/neural_circuits/Neural-Circuits/book/_build/jupyter_execute/ws2/ws2_1_0.png"
      },
      "image/png": {
       "height": 80,
       "width": 80
      }
     },
     "output_type": "display_data"
    }
   ],
   "source": [
    "import networkx as nx\n",
    "import matplotlib.pyplot as plt\n",
    "import numpy as np\n",
    "\n",
    "# Create and plot undirected graph using edge list\n",
    "\n",
    "G1 = nx.Graph()\n",
    "edge_list = [(0, 1), (1, 2), (2, 0)]\n",
    "G1.add_edges_from(edge_list)\n",
    "plt.figure(figsize=(3,3), dpi=25)\n",
    "nx.draw(G1)"
   ]
  },
  {
   "cell_type": "code",
   "execution_count": 2,
   "metadata": {
    "collapsed": false
   },
   "outputs": [
    {
     "data": {
      "image/png": "[encoded data removed]",
      "text/plain": [
       "<Figure size 75x75 with 1 Axes>"
      ]
     },
     "metadata": {
      "filenames": {
       "image/png": "/home/user/neural_circuits/Neural-Circuits/book/_build/jupyter_execute/ws2/ws2_2_0.png"
      },
      "image/png": {
       "height": 80,
       "width": 80
      }
     },
     "output_type": "display_data"
    }
   ],
   "source": [
    "# Create and plot undirected graph using adjacency matrix\n",
    "\n",
    "adj_matrix = np.array([[0, 1, 0],\n",
    "                      [0, 0, 1],\n",
    "                      [1, 0, 0]])\n",
    "G2=nx.from_numpy_matrix(adj_matrix)\n",
    "plt.figure(figsize=(3,3), dpi=25)\n",
    "nx.draw(G2)\n"
   ]
  },
  {
   "cell_type": "markdown",
   "metadata": {
    "collapsed": false
   },
   "source": [
    "The following tutorial is a good starting point for understanding how to use NetworkX:\n",
    "\n",
    "https://networkx.org/documentation/stable/tutorial.html\n",
    "\n",
    "Refer to the following URL for more the full documentation:\n",
    "\n",
    "<https://networkx.org>"
   ]
  },
  {
   "cell_type": "markdown",
   "metadata": {
    "collapsed": false
   },
   "source": [
    "### Question 1\n",
    "\n",
    "Use NetworkX to plot a *directed* graph of the [egg-laying circuit](egg-laying-circuit).\n",
    "\n",
    "### Question 2\n",
    "\n",
    "A (Erdos-Renyi) random graph $G_{N,p}$ is an undirected graph with $N$ nodes where the probability of an edge between any two nodes is $p$.\n",
    "\n",
    "1. Use NetworkX to estimate the global clustering coefficient and average path length of $G_{10,0.5}$.\n",
    "2. Write a function which returns an undirected random graph with $N$ nodes and expected (average) node degree $k$.\n",
    "2. For fixed average node degree $k$, how does average path length and global clustering vary with graph size? Choose a value of $k$, and plot average path length against $N$ and global clustering against $N$. Describe what you find.\n",
    "\n"
   ]
  }
 ],
 "metadata": {
  "interpreter": {
   "hash": "4b16baa96560834d52deaa0a26dd4bf0778d5ef2c475295f51a93ca0a294766a"
  },
  "kernelspec": {
   "display_name": "Python 3 (system-wide)",
   "language": "python",
   "metadata": {
    "cocalc": {
     "description": "Python 3 programming language",
     "priority": 100,
     "url": "https://www.python.org/"
    }
   },
   "name": "python3",
   "resource_dir": "/ext/jupyter/kernels/python3"
  },
  "language_info": {
   "codemirror_mode": {
    "name": "ipython",
    "version": 3
   },
   "file_extension": ".py",
   "mimetype": "text/x-python",
   "name": "python",
   "nbconvert_exporter": "python",
   "pygments_lexer": "ipython3",
   "version": "3.8.10"
  }
 },
 "nbformat": 4,
 "nbformat_minor": 4
}