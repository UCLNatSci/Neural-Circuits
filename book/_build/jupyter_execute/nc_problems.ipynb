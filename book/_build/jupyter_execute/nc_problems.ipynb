{
 "cells": [
  {
   "cell_type": "markdown",
   "metadata": {
    "collapsed": false
   },
   "source": [
    "# Small-World Networks\n",
    "\n",
    "## Introduction\n",
    "\n",
    "This worksheet explores the formation of networks that result in the \"small world\" phenomenon. A popular example of the small world phenomenon is the network formed by actors appearing in the same movie (e.g., \"Six Degrees of Kevin Bacon\"), but small worlds are not limited to people-only networks. Other examples range from power grids to the neural networks of worms. This model illustrates some general, theoretical conditions under which small world networks between people or things might occur.\n",
    "\n",
    "This model is an adaptation of the Watts-Strogatz model proposed by Duncan Watts and Steve Strogatz {cite}`watts1998collective`, whose definition of small-worldness stipulates significant local clustering as well as small path lengths. It begins with a *ring lattice* network where each node is connected to $k$ neighbours on either side. Using this as a starting point, we then modify the network by rewiring edges – removing an edge from the graph and replacing it with an edge between two nodes sampled at random. Over time, we analyse the effect this rewiring has the on various connections between nodes and on the properties of the network. Watts and Strogatz realised that by 'rewiring' a small number of edges in a lattice graph, the average path length decreases sharply, but clustering coefficients remain high. This property of short path distances and high clustering characterises a 'small world' graph.\n",
    "\n",
    "```{image} watts_strogatz.png\n",
    ":alt: L(12, 2)\n",
    ":width: 400px\n",
    ":align: center\n",
    "```\n",
    "\n",
    "```{note}\n",
    "This worksheets sets out a structured way to reproduce the results similar to Watts and Strogatz (1998). You are encouraged experiment and deviate from this worksheet in any way you see fit.\n",
    "```\n",
    "\n",
    "## Questions\n",
    "\n",
    "We will use Python and NetworkX to perform the simulation. To start, we need the definition of a *ring lattice*.\n",
    "\n",
    "```{admonition} Definition: Ring Lattice\n",
    "\n",
    "A **ring lattice** $L_{N,k}$ is a graph consisting of $N$ nodes arranged in a ring such that each node is\n",
    "connected to each of its $k$ closest neighbours on either side.\n",
    "\n",
    "Below is $L(12, 2)$:\n",
    "\n",
    "```{image} ring_lattice.jfif\n",
    ":alt: L(12, 2)\n",
    ":width: 150px\n",
    ":align: center\n",
    "```\n",
    "\n",
    "We will also need to import the required libraries."
   ]
  },
  {
   "cell_type": "code",
   "execution_count": 1,
   "metadata": {
    "collapsed": false
   },
   "outputs": [],
   "source": [
    "import numpy as np\n",
    "import matplotlib.pyplot as plt\n",
    "import networkx as nx"
   ]
  },
  {
   "cell_type": "code",
   "execution_count": 2,
   "metadata": {
    "collapsed": false,
    "tags": [
     "remove-cell"
    ]
   },
   "outputs": [],
   "source": [
    "np.random.seed(3)"
   ]
  },
  {
   "cell_type": "markdown",
   "metadata": {
    "collapsed": false
   },
   "source": [
    "### Question 1\n",
    "\n",
    "*Answer this by hand*.\n",
    "\n",
    "Calculate the global clustering coefficient and *approximate* shortest path length of $L(N, k)$.\n"
   ]
  },
  {
   "cell_type": "markdown",
   "metadata": {
    "collapsed": false
   },
   "source": [
    "### Question 2\n",
    "Write a function `get_lattice(N, k)` which returns an undirected ring lattice $L_{N,k}$ with $N$ nodes each connected to its $k$ closest neighbours."
   ]
  },
  {
   "cell_type": "code",
   "execution_count": 3,
   "metadata": {
    "collapsed": false,
    "tags": [
     "remove-cell"
    ]
   },
   "outputs": [],
   "source": [
    "def get_lattice(N, k):\n",
    "    G = nx.Graph()\n",
    "    edgelist = [((i+j) % N, i) for i in range(N) for j in range(1, k+1)]\n",
    "    G.add_edges_from(edgelist)\n",
    "    return G"
   ]
  },
  {
   "cell_type": "code",
   "execution_count": 4,
   "metadata": {
    "collapsed": false,
    "scrolled": true
   },
   "outputs": [
    {
     "data": {
      "image/png": "[encoded data removed]",
      "text/plain": [
       "<Figure size 75x75 with 1 Axes>"
      ]
     },
     "metadata": {
      "filenames": {
       "image/png": "C:\\Users\\NatSciTeaching\\github\\Neural-Circuits\\book\\_build\\jupyter_execute\\nc_problems_6_0.png"
      }
     },
     "output_type": "display_data"
    }
   ],
   "source": [
    "G = get_lattice(8, 2)\n",
    "plt.figure(figsize=(3,3), dpi=25)\n",
    "nx.draw(G, with_labels=True)"
   ]
  },
  {
   "cell_type": "markdown",
   "metadata": {
    "collapsed": false
   },
   "source": [
    "### Question 3\n",
    "\n",
    "Write a function `rewire_edge(G, i, j)` which randomly rewires the start and end nodes of the edge connected nodes `i` and `j` of graph `G`. The function should remove the edge connecting nodes `i` and `j` then add a new edge connecting a *distinct* pair of random nodes."
   ]
  },
  {
   "cell_type": "code",
   "execution_count": 5,
   "metadata": {
    "collapsed": false,
    "tags": [
     "remove-cell"
    ]
   },
   "outputs": [],
   "source": [
    "def rewire_edge(G, i, j):\n",
    "    u, v = np.random.choice(G.number_of_nodes(), 2, replace=False)\n",
    "    G.remove_edge(i, j)\n",
    "    G.add_edge(u, v)"
   ]
  },
  {
   "cell_type": "code",
   "execution_count": 6,
   "metadata": {
    "collapsed": false
   },
   "outputs": [
    {
     "data": {
      "image/png": "[encoded data removed]",
      "text/plain": [
       "<Figure size 75x75 with 1 Axes>"
      ]
     },
     "metadata": {
      "filenames": {
       "image/png": "C:\\Users\\NatSciTeaching\\github\\Neural-Circuits\\book\\_build\\jupyter_execute\\nc_problems_9_0.png"
      }
     },
     "output_type": "display_data"
    },
    {
     "data": {
      "image/png": "[encoded data removed]",
      "text/plain": [
       "<Figure size 75x75 with 1 Axes>"
      ]
     },
     "metadata": {
      "filenames": {
       "image/png": "C:\\Users\\NatSciTeaching\\github\\Neural-Circuits\\book\\_build\\jupyter_execute\\nc_problems_9_1.png"
      }
     },
     "output_type": "display_data"
    }
   ],
   "source": [
    "G = get_lattice(20, 2)\n",
    "plt.figure(figsize=(3,3), dpi=25)\n",
    "nx.draw(G, with_labels=True)\n",
    "\n",
    "rewire_edge(G, 0, 1)\n",
    "plt.figure(figsize=(3,3), dpi=25)\n",
    "nx.draw(G, with_labels=True)"
   ]
  },
  {
   "cell_type": "markdown",
   "metadata": {
    "collapsed": false
   },
   "source": [
    "### Question 4\n",
    "\n",
    "Write a function `rewire_graph(G, p)` which loops over all edges of graph `G`, rewiring each one with probability `p`."
   ]
  },
  {
   "cell_type": "code",
   "execution_count": 7,
   "metadata": {
    "collapsed": false,
    "tags": [
     "remove-cell"
    ]
   },
   "outputs": [],
   "source": [
    "def rewire_graph(G, p):\n",
    "    for i,j in G.edges:\n",
    "        if np.random.binomial(1, p):\n",
    "            rewire_edge(G, i, j)"
   ]
  },
  {
   "cell_type": "markdown",
   "metadata": {
    "collapsed": false
   },
   "source": [
    "### Question 5\n",
    "\n",
    "Choosing suitable values for `N` and `k`, write a script that generates a ring lattice graph, rewires the graph with given rewiring probability `p`, then calculates the average path length and global clustering coefficient. Amend your code so that `p` varies from `0` to `1`, and create arrays to store the average path length and global clustering coefficient for each value of `p`."
   ]
  },
  {
   "cell_type": "markdown",
   "metadata": {
    "collapsed": false
   },
   "source": [
    "### Question 6\n",
    "\n",
    "Create a figure which shows how average path length and global clustering co-efficient vary with rewiring probability. Experiment with different values of `N` and `k`. For what values of `p` does the resulting graph have small-world properties? Can you reproduce Figure 2 in {cite}`watts1998collective`?"
   ]
  },
  {
   "cell_type": "markdown",
   "metadata": {
    "collapsed": false
   },
   "source": [
    "### Question 7 [Open-ended]\n",
    "\n",
    "How did Watts and Strogatz determine the small-worldness of the graph of the *C-Elegans* nervous system?\n",
    "\n",
    "Import the graph of the *C Elegans* nervous system into Python and see if you can reproduce the values in Table 1 of {cite}`watts1998collective`.\n",
    "\n",
    "<a href=\"herm_full_edgelist.csv\" download>Download C Elegans Nervous System Data</a>  "
   ]
  },
  {
   "cell_type": "markdown",
   "metadata": {
    "collapsed": false
   },
   "source": [
    "## References\n",
    "\n",
    "```{bibliography}\n",
    "```"
   ]
  }
 ],
 "metadata": {
  "kernelspec": {
   "display_name": "Python 3 (system-wide)",
   "language": "python",
   "metadata": {
    "cocalc": {
     "description": "Python 3 programming language",
     "priority": 100,
     "url": "https://www.python.org/"
    }
   },
   "name": "python3",
   "resource_dir": "/ext/jupyter/kernels/python3"
  },
  "language_info": {
   "codemirror_mode": {
    "name": "ipython",
    "version": 3
   },
   "file_extension": ".py",
   "mimetype": "text/x-python",
   "name": "python",
   "nbconvert_exporter": "python",
   "pygments_lexer": "ipython3",
   "version": "3.7.10"
  }
 },
 "nbformat": 4,
 "nbformat_minor": 4
}