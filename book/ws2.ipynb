{
 "cells": [
  {
   "cell_type": "markdown",
   "metadata": {},
   "source": [
    "# Manipulating graphs with Python\n",
    "\n",
    "Python has many functions for manipulating and investigating graphs.\n",
    "Refer to the following URL for more documentation:\n",
    "<https://networkx.org>\n",
    "\n",
    "## Useful Python graph functions\n",
    "\n",
    "``` python\n",
    "import networkx as nx\n",
    "```\n",
    "**Create directed graph from edge list or adjacency matrix**\n",
    "\n",
    "``` python\n",
    "# Use here the class DiGraph from module networkx for directed graphs:\n",
    "G = nx.DiGraph()\n",
    "# For graph from adjacency matrix use the function:\n",
    "nx.from_numpy_matrix('adjacency matrix inputted here', create_using=G)\n",
    "# For graph from edge list use function:\n",
    "G.add_edges_from('edge list inputted here')\n",
    "```\n",
    "**Create undirected graphs**\n",
    "``` python\n",
    "# Similarly to directed graphs, first initialise an undirected graph:\n",
    "G = nx.Graph()\n",
    "# Using an adjacency matrix:\n",
    "nx.from_numpy_matrix('adjacency matrix inputted here', create_using=G)\n",
    "# Using an edge list:\n",
    "G.add_edges_from('edge list inputted here')\n",
    "```\n",
    "\n",
    "**Get number of nodes and edges**\n",
    "``` python\n",
    "G.number_of_edges() # either returns the number of edges between two nodes if specified or the total number of edges\n",
    "G.number_of_nodes() # returns number of nodes\n",
    "```\n",
    "\n",
    "**Remove loops and multiple edges**\n",
    "```python\n",
    "G.simplify()\n",
    "G.is_simple() # checks if the graph is simple\n",
    "```\n",
    "\n",
    "**Create a subgraph**\n",
    "```python\n",
    "G.subgraph('nodes inputted here')\n",
    "```\n",
    "\n",
    "**Perform breadth first search**\n",
    "\n",
    "There is no in-built function in python but it is relatively straight forward to create your own (see hidden code)."
   ]
  },
  {
   "cell_type": "code",
   "execution_count": 2,
   "metadata": {},
   "outputs": [],
   "source": [
    "{\"tags\": [\"hide-input\"]}\n",
    "# Where M is the adjacency matrix and i the starting node of the search\n",
    "def bfs(M,i):\n",
    "\n",
    "    visited = np.zeros((len(M),1))\n",
    "    frontier = [i]\n",
    "    visited[i] = 1\n",
    "    result = [i]\n",
    "    while len(frontier)>0:\n",
    "        next = []\n",
    "        for j in frontier:\n",
    "            for k in get_successors(M,j):\n",
    "                if visited[k] == 0:\n",
    "                    next.append(k)\n",
    "                    result.append(k)\n",
    "                    visited[k] = 1\n",
    "        frontier = next\n",
    "\n",
    "    return result\n",
    "\n",
    "# Which uses the function get_successors below:\n",
    "def get_successors(M, i):\n",
    "    a = np.array(M[i,:])\n",
    "    res = np.where(a==1)\n",
    "    return res[0]"
   ]
  },
  {
   "cell_type": "markdown",
   "metadata": {},
   "source": [
    "**Calculate distance matrix between node pairs**\n",
    "```python\n",
    "# For unweighted graph\n",
    "nx.all_pairs_shortest_path(G) # calculates shortest paths between all nodes\n",
    "nx.all_pairs_shortest_path_length(G) # lengths of shortest paths between nodes \n",
    "# And similarly for weighted graphs:\n",
    "nx.all_pairs_dijkstra_path(G)\n",
    "nx.all_pairs_dijkstra_path_length(G)\n",
    "```\n",
    "\n",
    "**Find strongly and weakly connected components**\n",
    "``` python\n",
    "nx.weakly_connected_components(G)\n",
    "nx.strongly_connected_components(G)\n",
    "# Get number of strongly/weakly connected components:\n",
    "nx.number_strongly_connected_components(G)\n",
    "nx.number_weakly_connected_components(G)\n",
    "```\n",
    "**Find shortest path between nodes**\n",
    "```python\n",
    "nx.shortest_path(G, 'source node inputted here', 'target node inputted here')\n",
    "```\n",
    "\n",
    "**Plot graph and set node colour**\n",
    "```python\n",
    "# Use the networkx drawing modules:\n",
    "from networkx.drawing.nx_pylab import draw, draw_networkx\n",
    "draw(G, node_color='b') # can change colour and other properties here\n",
    "draw_networkx(G) # an alternative function that works the same as draw\n",
    "nx.relabel_nodes(G,mapping={0:1,1:2,2:3}) # can relabel nodes so the ordering is the same as in matlab\n",
    "\n",
    "# Use matplotlib to display the network\n",
    "import matplotlib.pyplot as plt\n",
    "plt.show()\n",
    "```\n",
    "\n",
    "### Example\n"
   ]
  },
  {
   "cell_type": "code",
   "execution_count": 3,
   "metadata": {},
   "outputs": [
    {
     "name": "stdout",
     "output_type": "stream",
     "text": [
      "{1, 2, 3}\n"
     ]
    },
    {
     "data": {
      "image/png": "[encoded data removed]",
      "text/plain": [
       "<Figure size 432x288 with 1 Axes>"
      ]
     },
     "metadata": {},
     "output_type": "display_data"
    }
   ],
   "source": [
    "{\"tags\": [\"hide-output\"]}\n",
    "\n",
    "import networkx as nx\n",
    "import matplotlib.pyplot as plt\n",
    "from networkx.drawing.nx_pylab import draw\n",
    "\n",
    "# Create a graph from an edge list \n",
    "edges = [(1, 2), (2, 3), (3, 1), (4,5)]\n",
    "G = nx.DiGraph()\n",
    "G.add_edges_from(edges)\n",
    "\n",
    "# Determine its connected components and color the largest one\n",
    "largest_cc = max(nx.weakly_connected_components(G), key=len)\n",
    "print(largest_cc)\n",
    "color_map = []\n",
    "for node in G:\n",
    "    if node in largest_cc:\n",
    "        color_map.append('red')\n",
    "    else:\n",
    "        color_map.append('blue')\n",
    "draw(G, with_labels=True, node_color=color_map)\n",
    "plt.show()"
   ]
  },
  {
   "cell_type": "markdown",
   "metadata": {},
   "source": [
    "### Question 1\n",
    "1.  Draw a picture (by hand) of a connected simple digraph with ten nodes and three strongly connected components.\n",
    "1. Use Python to:\n",
    "    1. Create and plot your graph.\n",
    "    1. Colour the nodes according to their strongly connected component.\n",
    "    1. Determine the pair of nodes i, j with the greatest path distance. Hint: use the following code to find the maximum element of matrix d. **TBC** <br>\n",
    "        *d = nx.all_pairs_shortest_path(G)* <br>\n",
    "        *m = max(d)* <br>\n",
    "        *i,j = np.where(d==m)* \n",
    "    1. Determine the shortest path between i and j and increase the width of its edges to 2 points.\n",
    "\n",
    "In this workshop we will start investigating real nervous system connectivity data. To do this we will need to import the data into Python.\n",
    "\n",
    "## Importing Data into Python\n",
    "\n",
    "We are used to storing and manipulating data in Python Numpy arrays. However, arrays may only be used for storing numerical data. For other types of data (such as text) Python has a different package called Pandas which works with **dataframes**. Much like a database table, Pandas dataframes store rows of data consisting of multiple heterogeneous data types. In the next question we will import connectivity data of the C-Elegans into a Pandas dataframe.\n",
    "\n"
   ]
  }
 ],
 "metadata": {
  "interpreter": {
   "hash": "4b16baa96560834d52deaa0a26dd4bf0778d5ef2c475295f51a93ca0a294766a"
  },
  "kernelspec": {
   "display_name": "Python 3.8.8 64-bit ('base': conda)",
   "language": "python",
   "name": "python3"
  },
  "language_info": {
   "codemirror_mode": {
    "name": "ipython",
    "version": 3
   },
   "file_extension": ".py",
   "mimetype": "text/x-python",
   "name": "python",
   "nbconvert_exporter": "python",
   "pygments_lexer": "ipython3",
   "version": "3.8.8"
  },
  "orig_nbformat": 4
 },
 "nbformat": 4,
 "nbformat_minor": 2
}
